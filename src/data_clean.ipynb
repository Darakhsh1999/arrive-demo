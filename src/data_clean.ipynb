{
 "cells": [
  {
   "cell_type": "markdown",
   "id": "8eae61f5",
   "metadata": {},
   "source": [
    "# Data cleaning and analysis"
   ]
  },
  {
   "cell_type": "markdown",
   "id": "8363f646",
   "metadata": {},
   "source": [
    "## Summary of data analysis and findings"
   ]
  },
  {
   "cell_type": "code",
   "execution_count": 1,
   "id": "6ad6d22b",
   "metadata": {},
   "outputs": [],
   "source": [
    "import os\n",
    "import constants\n",
    "import df_utils\n",
    "import pandas as pd\n",
    "import seaborn as sns\n",
    "from pprint import pprint\n",
    "import matplotlib.pyplot as plt\n"
   ]
  },
  {
   "cell_type": "code",
   "execution_count": 2,
   "id": "7ec5bba2",
   "metadata": {},
   "outputs": [],
   "source": [
    "# Load data into Pandas DataFrame\n",
    "data_path = \"assignment-sample-data.csv\"\n",
    "df = pd.read_csv(data_path)"
   ]
  },
  {
   "cell_type": "code",
   "execution_count": 3,
   "id": "e2e5c19e",
   "metadata": {},
   "outputs": [],
   "source": [
    "from IPython.display import display\n",
    "pd.set_option('display.width', 1000)"
   ]
  },
  {
   "cell_type": "code",
   "execution_count": 4,
   "id": "1e04a826",
   "metadata": {},
   "outputs": [
    {
     "name": "stdout",
     "output_type": "stream",
     "text": [
      "        parking_id   area_type   parking_start_time     parking_end_time  parking_fee currency   parkinguser_id           car_id        lat        lon account_type\n",
      "0  fake_c28a323810  SurfaceLot  2015-03-06 19:55:41  2015-03-06 20:07:00         8.50      SEK  fake_bf5d9b530e  fake_130ae2aeb1  59.246370  18.077019    corporate\n",
      "1  fake_76c21cf355  SurfaceLot  2015-03-06 18:08:20  2015-03-06 19:46:00        15.67      SEK  fake_bf5d9b530e  fake_130ae2aeb1  59.231789  18.083995    corporate\n",
      "2  fake_995ed971a6    OnStreet  2017-07-21 09:55:42  2017-07-21 14:23:50        67.00      SEK  fake_3ba346a0cd  fake_f7a9d564d9  59.350331  18.096649    corporate\n",
      "3  fake_6b81ea4f35  SurfaceLot  2017-07-24 07:21:12  2017-07-24 07:34:31         4.34      SEK  fake_ea19a50003  fake_fae7e31b34  59.315826  18.098355    corporate\n",
      "4  fake_424b61e0eb  SurfaceLot  2015-03-09 12:05:46  2015-03-09 13:57:54        50.50      SEK  fake_1cc1970582  fake_0755f3c71f  59.320919  18.047513    corporate\n"
     ]
    }
   ],
   "source": [
    "# Show first entries\n",
    "print(df.head())\n",
    "#print(df.tail())"
   ]
  },
  {
   "cell_type": "markdown",
   "id": "0e242ec8",
   "metadata": {},
   "source": [
    "- 11 columns\n",
    "- I suspect that that is sorted by account_type since first 50 are corporate and last 50 are private. This means we should shuffle before training"
   ]
  },
  {
   "cell_type": "code",
   "execution_count": 5,
   "id": "3d008071",
   "metadata": {},
   "outputs": [],
   "source": [
    "shuffle_rows = True\n",
    "if shuffle_rows:\n",
    "    df = df.sample(frac=1).reset_index(drop=True)"
   ]
  },
  {
   "cell_type": "code",
   "execution_count": 6,
   "id": "36312777",
   "metadata": {},
   "outputs": [
    {
     "name": "stdout",
     "output_type": "stream",
     "text": [
      "Index(['parking_id', 'area_type', 'parking_start_time', 'parking_end_time', 'parking_fee', 'currency', 'parkinguser_id', 'car_id', 'lat', 'lon', 'account_type'], dtype='object')\n"
     ]
    }
   ],
   "source": [
    "print(df.columns)"
   ]
  },
  {
   "cell_type": "code",
   "execution_count": 7,
   "id": "386336cb",
   "metadata": {},
   "outputs": [
    {
     "name": "stdout",
     "output_type": "stream",
     "text": [
      "<class 'pandas.core.frame.DataFrame'>\n",
      "RangeIndex: 87489 entries, 0 to 87488\n",
      "Data columns (total 11 columns):\n",
      " #   Column              Non-Null Count  Dtype  \n",
      "---  ------              --------------  -----  \n",
      " 0   parking_id          87489 non-null  object \n",
      " 1   area_type           87489 non-null  object \n",
      " 2   parking_start_time  87489 non-null  object \n",
      " 3   parking_end_time    87489 non-null  object \n",
      " 4   parking_fee         87489 non-null  float64\n",
      " 5   currency            87489 non-null  object \n",
      " 6   parkinguser_id      87489 non-null  object \n",
      " 7   car_id              87489 non-null  object \n",
      " 8   lat                 87489 non-null  float64\n",
      " 9   lon                 87489 non-null  float64\n",
      " 10  account_type        87489 non-null  object \n",
      "dtypes: float64(3), object(8)\n",
      "memory usage: 7.3+ MB\n",
      "None\n"
     ]
    }
   ],
   "source": [
    "print(df.info())"
   ]
  },
  {
   "cell_type": "markdown",
   "id": "5d8e4ed3",
   "metadata": {},
   "source": [
    "- 11 columns from raw dataset\n",
    "- 87489 rows (transactions)\n",
    "- No null values\n",
    "- Mix of float (3) and object (8) dtypes"
   ]
  },
  {
   "cell_type": "code",
   "execution_count": 8,
   "id": "8804a880",
   "metadata": {},
   "outputs": [
    {
     "name": "stdout",
     "output_type": "stream",
     "text": [
      "        parking_fee           lat           lon\n",
      "count  87489.000000  87489.000000  87489.000000\n",
      "mean      31.786153     58.786174     17.035432\n",
      "std       39.338515      2.925073      2.639340\n",
      "min        0.000000   -180.006219   -180.006783\n",
      "25%        9.000000     59.292461     17.137638\n",
      "50%       18.750000     59.332389     18.000587\n",
      "75%       39.100000     59.360741     18.066440\n",
      "max      983.000000     67.871132     54.009971\n"
     ]
    }
   ],
   "source": [
    "print(df.describe())"
   ]
  },
  {
   "cell_type": "markdown",
   "id": "16bd53fd",
   "metadata": {},
   "source": [
    "- Exists some outliers for parking_fee\n",
    "    - min = 0 (how does this make sense?)\n",
    "    - max = 983 (this is very high compared to 75th percentile that is 39)\n",
    "    - mean = 31\n",
    "    - std = 39 (quite high compared to mean => high data variance)\n",
    "    - Could for example remove outliers and standardize the data for easier training\n",
    "- Latidute and longitude values are not in the correct range\n",
    "    - min lat = -90 (but we observe -180)\n",
    "    - offsetting wont help since the range is above 180, meaning I do not trust its values to be correctly measured\n",
    "- Longitude is however in the correct range [-180, 180]\n",
    "- Latitude and longitude data by itself does not really give much information and would require some kind of embedding model inbetween, that maps the coordinate point to some feature space that includes information about the location and parking behaviour"
   ]
  },
  {
   "cell_type": "code",
   "execution_count": 9,
   "id": "71a82357",
   "metadata": {},
   "outputs": [
    {
     "name": "stdout",
     "output_type": "stream",
     "text": [
      "['private' 'corporate']\n",
      "account_type\n",
      "private      57239\n",
      "corporate    30250\n",
      "Name: count, dtype: int64\n",
      "-----\n",
      "['SEK' 'NOK' 'EUR' 'DKK']\n",
      "currency\n",
      "SEK    86918\n",
      "NOK      465\n",
      "DKK       87\n",
      "EUR       19\n",
      "Name: count, dtype: int64\n",
      "-----\n",
      "['OnStreet' 'SurfaceLot' 'AboveGroundGarage' 'Administrative'\n",
      " 'UndergroundGarage' 'EVC' 'CameraParkArea']\n",
      "area_type\n",
      "OnStreet             52747\n",
      "SurfaceLot           26749\n",
      "Administrative        6269\n",
      "UndergroundGarage     1248\n",
      "AboveGroundGarage      459\n",
      "EVC                     14\n",
      "CameraParkArea           3\n",
      "Name: count, dtype: int64\n",
      "-----\n",
      "Number of rows in df: 87489\n",
      "Number of unique parking_ids: 87489\n",
      "Number of unique parkinguser_ids: 300\n",
      "Number of unique car_ids: 1652\n"
     ]
    }
   ],
   "source": [
    "print(df[\"account_type\"].unique())\n",
    "print(df[\"account_type\"].value_counts())\n",
    "print(5*\"-\")\n",
    "print(df[\"currency\"].unique())\n",
    "print(df[\"currency\"].value_counts())\n",
    "print(5*\"-\")\n",
    "print(df[\"area_type\"].unique())\n",
    "print(df[\"area_type\"].value_counts())\n",
    "print(5*\"-\")\n",
    "print(f\"Number of rows in df: {len(df)}\")\n",
    "print(f\"Number of unique parking_ids: {df['parking_id'].nunique()}\")\n",
    "print(f\"Number of unique parkinguser_ids: {df['parkinguser_id'].nunique()}\")\n",
    "print(f\"Number of unique car_ids: {df['car_id'].nunique()}\")"
   ]
  },
  {
   "cell_type": "markdown",
   "id": "f5193874",
   "metadata": {},
   "source": [
    "- not an exact 50/50 split between private and corporate transactions, but they are in the same order of magnitude so stratified sampling is not super necessary\n",
    "- There are 4 different currencies used in the dataset, huge majority is in SEK. 2 options which are both viable\n",
    "    - convert all to SEK equivalent\n",
    "    - remove transactions in other currencies\n",
    "- area_type have 7 different values, \"OnStreet\" and \"SurfaceLot\" are the most common, while \"EVC\" and \"CameraParkArea\" are the least common\n",
    "    - Before removing \"EVC\" and \"CameraParkArea\", we should check if there are any patterns (correlation) in the data that we could use to predict the account_type from those samples\n",
    "- area_type would require categorical encoding, before being used as input to the model.\n",
    "- parking_id is unique as it is a primary key and equal to number of rows in the dataset, meaning it is completely useless for the model\n",
    "- There are a total of 300 registered private and corporate parking users (accounts)\n",
    "- There are a total of 1652 unique car ids used for parking transactions. Since this is larger than the number of parking users, some users have multiple cars, which is indicate of a business account (business has a fleet of cars). Could be useful to create a feature of number of used/owned cars per user"
   ]
  },
  {
   "cell_type": "markdown",
   "id": "dc48d774",
   "metadata": {},
   "source": [
    "### Check if transactions with \"parkinguser_id\" exits with multiple account types (corporate and private)"
   ]
  },
  {
   "cell_type": "code",
   "execution_count": 10,
   "id": "3b3561f7",
   "metadata": {},
   "outputs": [],
   "source": [
    "parkinguser_ids = {} # parkinguser_id -> account_type\n",
    "\n",
    "# Loop over all transactions\n",
    "for index, row in df.iterrows(): \n",
    "    user_id = row['parkinguser_id']\n",
    "    account_type = row['account_type']\n",
    "\n",
    "    if user_id not in parkinguser_ids: # If user_id is not in the dictionary, add it\n",
    "        parkinguser_ids[user_id] = account_type\n",
    "    else: # If user_id is already in the dictionary, check if the account_type is the same\n",
    "\n",
    "        if parkinguser_ids[user_id] != account_type:\n",
    "            print(f\"User {user_id} has multiple account types: {parkinguser_ids[user_id]} and {account_type}\")"
   ]
  },
  {
   "cell_type": "markdown",
   "id": "02f1c2da",
   "metadata": {},
   "source": [
    "- Each parkinguser_id has only one account_type. If a person has both a private and a corporate account, then they make transactions using different parkinguser_ids!"
   ]
  },
  {
   "cell_type": "markdown",
   "id": "807fad54",
   "metadata": {},
   "source": [
    "### Max datetime range"
   ]
  },
  {
   "cell_type": "code",
   "execution_count": 11,
   "id": "7ca77366",
   "metadata": {},
   "outputs": [
    {
     "name": "stdout",
     "output_type": "stream",
     "text": [
      "Earliest transaction start: 2013-02-08 10:40:58\n",
      "Latest transaction end: 2020-09-30 14:34:35\n",
      "Total time span: 2791 days, 3 hours\n"
     ]
    }
   ],
   "source": [
    "# Data time range\n",
    "df['parking_start_time'] = pd.to_datetime(df[\"parking_start_time\"])\n",
    "df['parking_end_time'] = pd.to_datetime(df[\"parking_end_time\"])\n",
    "\n",
    "# Find the earliest start time and latest end time\n",
    "earliest_start = df['parking_start_time'].min()\n",
    "latest_end = df['parking_end_time'].max()\n",
    "\n",
    "# Calculate the total time span\n",
    "time_span = latest_end - earliest_start\n",
    "\n",
    "print(f\"Earliest transaction start: {earliest_start}\")\n",
    "print(f\"Latest transaction end: {latest_end}\")\n",
    "print(f\"Total time span: {time_span.days} days, {time_span.seconds // 3600} hours\")"
   ]
  },
  {
   "cell_type": "markdown",
   "id": "5683a3e8",
   "metadata": {},
   "source": [
    "- The time span of the dataset is very long (7 years). So normalizing with this time span is not a good idea. Some users could have been active for a long time while some could have been active for a short time.\n",
    "- Better to normalize with the time span of each parkinguser_id"
   ]
  },
  {
   "cell_type": "markdown",
   "id": "8b9e60f1",
   "metadata": {},
   "source": [
    "## Data cleaning"
   ]
  },
  {
   "cell_type": "code",
   "execution_count": 12,
   "id": "3e62ebc4",
   "metadata": {},
   "outputs": [],
   "source": [
    "# remove duplicate rows\n",
    "# remove outliers in some features\n",
    "# remove nonsensical values (parking fee = 0 ?)\n",
    "# convert date columns to datetime"
   ]
  },
  {
   "cell_type": "markdown",
   "id": "c4089329",
   "metadata": {},
   "source": [
    "## Feature Engineering"
   ]
  },
  {
   "cell_type": "markdown",
   "id": "69ac6854",
   "metadata": {},
   "source": [
    "### Currency conversion"
   ]
  },
  {
   "cell_type": "code",
   "execution_count": 13,
   "id": "d6b4379f",
   "metadata": {},
   "outputs": [
    {
     "name": "stdout",
     "output_type": "stream",
     "text": [
      "           parking_id       area_type  parking_start_time    parking_end_time  parking_fee currency   parkinguser_id           car_id        lat        lon account_type  parking_fee_sek\n",
      "1119  fake_b6a291edfe        OnStreet 2019-01-02 14:51:02 2019-01-02 18:21:29         3.50      EUR  fake_ade3f3f432  fake_e996210230  46.532441  12.132596      private          38.8850\n",
      "2078  fake_56f5699a58      SurfaceLot 2019-01-05 16:37:22 2019-01-05 17:30:00         2.00      EUR  fake_ade3f3f432  fake_e996210230  46.463216  12.204619      private          22.2200\n",
      "3836  fake_336bec8abf        OnStreet 2018-06-05 15:13:50 2018-06-05 15:30:00         1.05      EUR  fake_7047370fa5  fake_1fbe5a7dbe  60.397872  25.669604      private          11.6655\n",
      "4832  fake_b8b80c5daf  Administrative 2016-04-07 11:09:54 2016-04-07 12:38:00         3.21      EUR  fake_f78d5f4769  fake_33a47b6e0a  52.370624   9.731980      private          35.6631\n",
      "8398  fake_adc2bd373e        OnStreet 2019-08-06 07:20:04 2019-08-06 14:26:31         5.47      EUR  fake_ade3f3f432  fake_e996210230  46.530397  12.146991      private          60.7717\n"
     ]
    }
   ],
   "source": [
    "df[\"parking_fee_sek\"] = df[[\"currency\", \"parking_fee\"]].apply(df_utils.convert_currency, axis=1)\n",
    "print(df[df[\"currency\"] == \"EUR\"].head())"
   ]
  },
  {
   "cell_type": "markdown",
   "id": "9ba90453",
   "metadata": {},
   "source": [
    "### Parking duration"
   ]
  },
  {
   "cell_type": "code",
   "execution_count": 17,
   "id": "ce66c5dc",
   "metadata": {},
   "outputs": [
    {
     "name": "stderr",
     "output_type": "stream",
     "text": [
      "/tmp/ipykernel_17095/1278808334.py:1: FutureWarning: Series.__getitem__ treating keys as positions is deprecated. In a future version, integer keys will always be treated as labels (consistent with DataFrame behavior). To access a value by position, use `ser.iloc[pos]`\n",
      "  df[\"parking_duration\"] = df[[\"parking_start_time\", \"parking_end_time\"]].apply(lambda x: (x[1] - x[0]).total_seconds() / 3600, axis=1)\n"
     ]
    }
   ],
   "source": [
    "df[\"parking_duration\"] = df[[\"parking_start_time\", \"parking_end_time\"]].apply(lambda x: (x[1] - x[0]).total_seconds() / 3600, axis=1)"
   ]
  },
  {
   "cell_type": "markdown",
   "id": "824d5295",
   "metadata": {},
   "source": [
    "### Weekday calculation\n",
    "\n"
   ]
  },
  {
   "cell_type": "code",
   "execution_count": 18,
   "id": "a17caed2",
   "metadata": {},
   "outputs": [],
   "source": [
    "df[\"weekday\"] = df.apply(df_utils.get_weekday, axis=1)"
   ]
  },
  {
   "cell_type": "markdown",
   "id": "885ed38b",
   "metadata": {},
   "source": [
    "### Unique cars used per account"
   ]
  },
  {
   "cell_type": "code",
   "execution_count": 19,
   "id": "54bc4b35",
   "metadata": {},
   "outputs": [
    {
     "name": "stdout",
     "output_type": "stream",
     "text": [
      "        parking_id   parkinguser_id           car_id  registered_cars account_type\n",
      "0  fake_f7707765d9  fake_ade3f3f432  fake_644ff1469a               12      private\n",
      "1  fake_6572f13c7f  fake_7f7916179f  fake_31f2599e4b                7      private\n",
      "2  fake_568ed9edae  fake_2c5fc36fef  fake_a38ca99970                1    corporate\n",
      "3  fake_a69ceb5cdb  fake_ade3f3f432  fake_644ff1469a               12      private\n",
      "4  fake_cc13a48b34  fake_c28849a708  fake_38be7eaaa7               22    corporate\n",
      "5  fake_c60479976c  fake_64ca8b3b64  fake_642cbbea17                3    corporate\n",
      "6  fake_132feae99e  fake_92164957dc  fake_b52aeacb25                3      private\n",
      "7  fake_ed3200fadd  fake_e1ea8dfecc  fake_837cc49b6f               16    corporate\n",
      "8  fake_da5a8c042c  fake_d418b2f74a  fake_1d83d00ba0                6      private\n",
      "9  fake_1cfcad93f2  fake_835dae552c  fake_a0034300b7                8    corporate\n"
     ]
    }
   ],
   "source": [
    "# Count unique cars per user\n",
    "user_car_counts = df.groupby(\"parkinguser_id\")[\"car_id\"].nunique()\n",
    "\n",
    "# Map the counts back to the original dataframe\n",
    "df[\"registered_cars\"] = df[\"parkinguser_id\"].map(user_car_counts)\n",
    "\n",
    "# Display the first few rows to verify\n",
    "print(df[[\"parking_id\",\"parkinguser_id\", \"car_id\", \"registered_cars\", \"account_type\"]].head(10))"
   ]
  },
  {
   "cell_type": "markdown",
   "id": "9bb46f98",
   "metadata": {},
   "source": [
    "### Parking count"
   ]
  },
  {
   "cell_type": "code",
   "execution_count": 20,
   "id": "00dde155",
   "metadata": {},
   "outputs": [
    {
     "name": "stdout",
     "output_type": "stream",
     "text": [
      "    parkinguser_id  n_parkings account_type\n",
      "0  fake_ade3f3f432         998      private\n",
      "1  fake_7f7916179f         298      private\n",
      "2  fake_2c5fc36fef         327    corporate\n",
      "3  fake_ade3f3f432         998      private\n",
      "4  fake_c28849a708        2053    corporate\n",
      "5  fake_64ca8b3b64         132    corporate\n",
      "6  fake_92164957dc         120      private\n",
      "7  fake_e1ea8dfecc         837    corporate\n",
      "8  fake_d418b2f74a         304      private\n",
      "9  fake_835dae552c         328    corporate\n"
     ]
    }
   ],
   "source": [
    "# Count total parking transactions per user\n",
    "user_parking_counts = df['parkinguser_id'].value_counts()\n",
    "df['n_parkings'] = df['parkinguser_id'].map(user_parking_counts)\n",
    "print(df[['parkinguser_id', 'n_parkings', \"account_type\"]].head(10))"
   ]
  },
  {
   "cell_type": "markdown",
   "id": "20df3b35",
   "metadata": {},
   "source": [
    "### Parking activity (normalized w.r.t days)"
   ]
  },
  {
   "cell_type": "code",
   "execution_count": 21,
   "id": "b31f38ca",
   "metadata": {},
   "outputs": [
    {
     "name": "stdout",
     "output_type": "stream",
     "text": [
      "Sample of user parking activity (parkings per day):\n",
      "    parkinguser_id  n_parkings  parking_activity account_type\n",
      "0  fake_ade3f3f432         998          0.563205      private\n",
      "1  fake_7f7916179f         298          0.210452      private\n",
      "2  fake_2c5fc36fef         327          1.097315    corporate\n",
      "3  fake_ade3f3f432         998          0.563205      private\n",
      "4  fake_c28849a708        2053          1.154668    corporate\n",
      "5  fake_64ca8b3b64         132          0.081835    corporate\n",
      "6  fake_92164957dc         120          0.071942      private\n",
      "7  fake_e1ea8dfecc         837          0.417248    corporate\n",
      "8  fake_d418b2f74a         304          0.130528      private\n",
      "9  fake_835dae552c         328          0.181015    corporate\n",
      "\n",
      "Summary statistics for parking_activity:\n",
      "count    87489.000000\n",
      "mean         0.493419\n",
      "std          0.344318\n",
      "min          0.006500\n",
      "25%          0.210452\n",
      "50%          0.392388\n",
      "75%          0.762215\n",
      "max          1.333543\n",
      "Name: parking_activity, dtype: float64\n"
     ]
    }
   ],
   "source": [
    "# Normalize parking frequency with respect to days used\n",
    "\n",
    "\n",
    "# Ensure the timestamp columns are in datetime format\n",
    "df[\"parking_start_time\"] = pd.to_datetime(df[\"parking_start_time\"])\n",
    "df[\"parking_end_time\"] = pd.to_datetime(df[\"parking_end_time\"])\n",
    "\n",
    "# Calculate account age in days for each user\n",
    "user_first_last = df.groupby(\"parkinguser_id\").agg(\n",
    "    first_parking=(\"parking_start_time\", \"min\"),\n",
    "    last_parking=(\"parking_end_time\", \"max\")\n",
    ")\n",
    "\n",
    "# Calculate account age in days (add 1 to avoid division by zero for single transactions)\n",
    "user_first_last[\"account_age_days\"] = (user_first_last[\"last_parking\"] - user_first_last[\"first_parking\"]).dt.days + 1\n",
    "\n",
    "# Get total parkings per user (we already have this in \"n_parkings\")\n",
    "# Calculate parking activity (parkings per day)\n",
    "user_first_last[\"parking_activity\"] = df.groupby(\"parkinguser_id\").size() / user_first_last[\"account_age_days\"]\n",
    "\n",
    "# Map the parking_activity back to the original dataframe\n",
    "df = df.merge(\n",
    "    user_first_last[[\"parking_activity\"]],\n",
    "    left_on=\"parkinguser_id\",\n",
    "    right_index=True,\n",
    "    how=\"left\"\n",
    ")\n",
    "\n",
    "# Display the results\n",
    "print(\"Sample of user parking activity (parkings per day):\")\n",
    "print(df[[\"parkinguser_id\", \"n_parkings\", \"parking_activity\", \"account_type\"]].head(10))\n",
    "print(\"\\nSummary statistics for parking_activity:\")\n",
    "print(df[\"parking_activity\"].describe())"
   ]
  },
  {
   "cell_type": "markdown",
   "id": "628841b5",
   "metadata": {},
   "source": [
    "- This feature has pros and cons. If the parking activity is uniform then it will measure average activity pretty well. However, if the activity is not uniform (such as a big break between parkings) then the acitivity will be underestimated.\n",
    "- Parking activity could be a good way to measure activity per day is a better measure compared to total parking transactions since a private user that has used the app for a long time will have more parking transactions than a new business user that has just started using the app."
   ]
  },
  {
   "cell_type": "markdown",
   "id": "9c76da27",
   "metadata": {},
   "source": [
    "## Aggregate over user"
   ]
  },
  {
   "cell_type": "code",
   "execution_count": null,
   "id": "ec836643",
   "metadata": {},
   "outputs": [],
   "source": []
  },
  {
   "cell_type": "markdown",
   "id": "0024239d",
   "metadata": {},
   "source": [
    "## Save processed data"
   ]
  },
  {
   "cell_type": "code",
   "execution_count": 22,
   "id": "d82b6632",
   "metadata": {},
   "outputs": [],
   "source": [
    "save_df = False\n",
    "if save_df:\n",
    "    clean_path = data_path[:-4] + '-cleaned.csv'\n",
    "    df.to_csv(clean_path, index=False)\n"
   ]
  }
 ],
 "metadata": {
  "kernelspec": {
   "display_name": ".venv",
   "language": "python",
   "name": "python3"
  },
  "language_info": {
   "codemirror_mode": {
    "name": "ipython",
    "version": 3
   },
   "file_extension": ".py",
   "mimetype": "text/x-python",
   "name": "python",
   "nbconvert_exporter": "python",
   "pygments_lexer": "ipython3",
   "version": "3.12.11"
  }
 },
 "nbformat": 4,
 "nbformat_minor": 5
}
