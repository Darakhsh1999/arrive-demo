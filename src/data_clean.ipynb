{
 "cells": [
  {
   "cell_type": "markdown",
   "id": "8eae61f5",
   "metadata": {},
   "source": [
    "# Data cleaning and analysis"
   ]
  },
  {
   "cell_type": "code",
   "execution_count": 1,
   "id": "6ad6d22b",
   "metadata": {},
   "outputs": [],
   "source": [
    "import os\n",
    "import visuals\n",
    "import constants\n",
    "import functionals\n",
    "import pandas as pd\n",
    "from pprint import pprint\n"
   ]
  },
  {
   "cell_type": "code",
   "execution_count": 2,
   "id": "7ec5bba2",
   "metadata": {},
   "outputs": [],
   "source": [
    "data_path = \"assignment-sample-data.csv\"\n",
    "df = pd.read_csv(data_path)"
   ]
  },
  {
   "cell_type": "code",
   "execution_count": 3,
   "id": "e2e5c19e",
   "metadata": {},
   "outputs": [],
   "source": [
    "from IPython.display import display\n",
    "pd.set_option('display.width', 1000)"
   ]
  },
  {
   "cell_type": "code",
   "execution_count": 4,
   "id": "1e04a826",
   "metadata": {},
   "outputs": [
    {
     "name": "stdout",
     "output_type": "stream",
     "text": [
      "        parking_id   area_type   parking_start_time     parking_end_time  parking_fee currency   parkinguser_id           car_id        lat        lon account_type\n",
      "0  fake_c28a323810  SurfaceLot  2015-03-06 19:55:41  2015-03-06 20:07:00         8.50      SEK  fake_bf5d9b530e  fake_130ae2aeb1  59.246370  18.077019    corporate\n",
      "1  fake_76c21cf355  SurfaceLot  2015-03-06 18:08:20  2015-03-06 19:46:00        15.67      SEK  fake_bf5d9b530e  fake_130ae2aeb1  59.231789  18.083995    corporate\n",
      "2  fake_995ed971a6    OnStreet  2017-07-21 09:55:42  2017-07-21 14:23:50        67.00      SEK  fake_3ba346a0cd  fake_f7a9d564d9  59.350331  18.096649    corporate\n",
      "3  fake_6b81ea4f35  SurfaceLot  2017-07-24 07:21:12  2017-07-24 07:34:31         4.34      SEK  fake_ea19a50003  fake_fae7e31b34  59.315826  18.098355    corporate\n",
      "4  fake_424b61e0eb  SurfaceLot  2015-03-09 12:05:46  2015-03-09 13:57:54        50.50      SEK  fake_1cc1970582  fake_0755f3c71f  59.320919  18.047513    corporate\n"
     ]
    }
   ],
   "source": [
    "print(df.head())"
   ]
  },
  {
   "cell_type": "code",
   "execution_count": 5,
   "id": "36312777",
   "metadata": {},
   "outputs": [
    {
     "name": "stdout",
     "output_type": "stream",
     "text": [
      "Index(['parking_id', 'area_type', 'parking_start_time', 'parking_end_time', 'parking_fee', 'currency', 'parkinguser_id', 'car_id', 'lat', 'lon', 'account_type'], dtype='object')\n"
     ]
    }
   ],
   "source": [
    "print(df.columns)"
   ]
  },
  {
   "cell_type": "code",
   "execution_count": 6,
   "id": "386336cb",
   "metadata": {},
   "outputs": [
    {
     "name": "stdout",
     "output_type": "stream",
     "text": [
      "<class 'pandas.core.frame.DataFrame'>\n",
      "RangeIndex: 87489 entries, 0 to 87488\n",
      "Data columns (total 11 columns):\n",
      " #   Column              Non-Null Count  Dtype  \n",
      "---  ------              --------------  -----  \n",
      " 0   parking_id          87489 non-null  object \n",
      " 1   area_type           87489 non-null  object \n",
      " 2   parking_start_time  87489 non-null  object \n",
      " 3   parking_end_time    87489 non-null  object \n",
      " 4   parking_fee         87489 non-null  float64\n",
      " 5   currency            87489 non-null  object \n",
      " 6   parkinguser_id      87489 non-null  object \n",
      " 7   car_id              87489 non-null  object \n",
      " 8   lat                 87489 non-null  float64\n",
      " 9   lon                 87489 non-null  float64\n",
      " 10  account_type        87489 non-null  object \n",
      "dtypes: float64(3), object(8)\n",
      "memory usage: 7.3+ MB\n",
      "None\n"
     ]
    }
   ],
   "source": [
    "print(df.info())"
   ]
  },
  {
   "cell_type": "code",
   "execution_count": 7,
   "id": "8804a880",
   "metadata": {},
   "outputs": [
    {
     "name": "stdout",
     "output_type": "stream",
     "text": [
      "        parking_fee           lat           lon\n",
      "count  87489.000000  87489.000000  87489.000000\n",
      "mean      31.786153     58.786174     17.035432\n",
      "std       39.338515      2.925073      2.639340\n",
      "min        0.000000   -180.006219   -180.006783\n",
      "25%        9.000000     59.292461     17.137638\n",
      "50%       18.750000     59.332389     18.000587\n",
      "75%       39.100000     59.360741     18.066440\n",
      "max      983.000000     67.871132     54.009971\n"
     ]
    }
   ],
   "source": [
    "print(df.describe())"
   ]
  },
  {
   "cell_type": "code",
   "execution_count": 8,
   "id": "71a82357",
   "metadata": {},
   "outputs": [
    {
     "name": "stdout",
     "output_type": "stream",
     "text": [
      "['corporate' 'private']\n",
      "account_type\n",
      "private      57239\n",
      "corporate    30250\n",
      "Name: count, dtype: int64\n",
      "['SEK' 'DKK' 'NOK' 'EUR']\n",
      "currency\n",
      "SEK    86918\n",
      "NOK      465\n",
      "DKK       87\n",
      "EUR       19\n",
      "Name: count, dtype: int64\n",
      "['SurfaceLot' 'OnStreet' 'Administrative' 'UndergroundGarage'\n",
      " 'AboveGroundGarage' 'CameraParkArea' 'EVC']\n",
      "area_type\n",
      "OnStreet             52747\n",
      "SurfaceLot           26749\n",
      "Administrative        6269\n",
      "UndergroundGarage     1248\n",
      "AboveGroundGarage      459\n",
      "EVC                     14\n",
      "CameraParkArea           3\n",
      "Name: count, dtype: int64\n"
     ]
    }
   ],
   "source": [
    "print(df[\"account_type\"].unique())\n",
    "print(df[\"account_type\"].value_counts())\n",
    "print(df[\"currency\"].unique())\n",
    "print(df[\"currency\"].value_counts())\n",
    "print(df[\"area_type\"].unique())\n",
    "print(df[\"area_type\"].value_counts())\n"
   ]
  },
  {
   "cell_type": "code",
   "execution_count": 9,
   "id": "3b3561f7",
   "metadata": {},
   "outputs": [],
   "source": [
    "# Check if \"parkinguser_id\" has multiple \"account_type\"\n",
    "parkinguser_ids = {}\n",
    "ok = 0\n",
    "for index, row in df.iterrows():\n",
    "    user_id = row['parkinguser_id']\n",
    "    account_type = row['account_type']\n",
    "    if user_id not in parkinguser_ids:\n",
    "        parkinguser_ids[user_id] = account_type\n",
    "    else:\n",
    "        if parkinguser_ids[user_id] != account_type:\n",
    "            print(f\"User {user_id} has multiple account types: {parkinguser_ids[user_id]} and {account_type}\")\n",
    "        else:\n",
    "            ok += 1"
   ]
  },
  {
   "cell_type": "markdown",
   "id": "c4089329",
   "metadata": {},
   "source": [
    "## Feature Engineering"
   ]
  },
  {
   "cell_type": "code",
   "execution_count": 10,
   "id": "4f6d8356",
   "metadata": {},
   "outputs": [],
   "source": [
    "def converter(x):\n",
    "    if x['currency'] != \"SEK\":\n",
    "        return x['parking_fee'] * constants.CURRENCY_TO_SEK[x['currency']]\n",
    "    return x['parking_fee']\n",
    "    "
   ]
  },
  {
   "cell_type": "code",
   "execution_count": 11,
   "id": "d6b4379f",
   "metadata": {},
   "outputs": [
    {
     "name": "stdout",
     "output_type": "stream",
     "text": [
      "            parking_id   area_type   parking_start_time     parking_end_time  parking_fee currency   parkinguser_id           car_id        lat        lon account_type  fee_equiv_sek\n",
      "41920  fake_56f5699a58  SurfaceLot  2019-01-05 16:37:22  2019-01-05 17:30:00         2.00      EUR  fake_ade3f3f432  fake_e996210230  46.463216  12.204619      private        22.2200\n",
      "49897  fake_10483f40af    OnStreet  2019-08-09 07:34:53  2019-08-09 07:35:01         0.00      EUR  fake_ade3f3f432  fake_e996210230  46.529172  12.137985      private         0.0000\n",
      "50919  fake_d7e00b2a72    OnStreet  2017-07-08 17:54:45  2017-07-08 22:29:59        10.58      EUR  fake_c66fd0c84a  fake_4e7288eccf  52.507050  13.452954      private       117.5438\n",
      "55830  fake_88e01a7992    OnStreet  2018-12-28 14:23:51  2018-12-28 15:20:28         0.83      EUR  fake_ade3f3f432  fake_e996210230  46.461713  12.201124      private         9.2213\n",
      "58059  fake_6b57bf21c3    OnStreet  2017-07-26 06:55:40  2017-07-26 12:30:00        15.41      EUR  fake_bd28523135  fake_0f86039c1b  60.469835  22.011726      private       171.2051\n"
     ]
    }
   ],
   "source": [
    "df['fee_equiv_sek'] = df[['currency', 'parking_fee']].apply(converter, axis=1)\n",
    "print(df[df[\"currency\"] == \"EUR\"].head())\n"
   ]
  },
  {
   "cell_type": "code",
   "execution_count": 16,
   "id": "7d6dff8b",
   "metadata": {},
   "outputs": [],
   "source": [
    "import datetime\n",
    "def time_diff_convert(x: pd.Series) -> pd.Series:\n",
    "    \"\"\"Calculate the time difference between parking_end and parking_start. With the format date format \"YYYY-MM-DD HH:MM:SS\" \"\"\"\n",
    "    start_date = datetime.datetime.strptime(x['parking_start_time'], '%Y-%m-%d %H:%M:%S')\n",
    "    end_date = datetime.datetime.strptime(x['parking_end_time'], '%Y-%m-%d %H:%M:%S')\n",
    "    time_diff = end_date - start_date\n",
    "    return time_diff"
   ]
  },
  {
   "cell_type": "code",
   "execution_count": 17,
   "id": "ce66c5dc",
   "metadata": {},
   "outputs": [],
   "source": [
    "df[\"parking_duration\"] = df[[\"parking_start_time\", \"parking_end_time\"]].apply(time_diff_convert, axis=1)"
   ]
  },
  {
   "cell_type": "code",
   "execution_count": null,
   "id": "a7a71401",
   "metadata": {},
   "outputs": [],
   "source": [
    "df.head()"
   ]
  }
 ],
 "metadata": {
  "kernelspec": {
   "display_name": ".venv",
   "language": "python",
   "name": "python3"
  },
  "language_info": {
   "codemirror_mode": {
    "name": "ipython",
    "version": 3
   },
   "file_extension": ".py",
   "mimetype": "text/x-python",
   "name": "python",
   "nbconvert_exporter": "python",
   "pygments_lexer": "ipython3",
   "version": "3.12.11"
  }
 },
 "nbformat": 4,
 "nbformat_minor": 5
}
