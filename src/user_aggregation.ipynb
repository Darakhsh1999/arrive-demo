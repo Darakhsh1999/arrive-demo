{
 "cells": [
  {
   "cell_type": "markdown",
   "id": "8eae61f5",
   "metadata": {},
   "source": [
    "# Aggregating over users "
   ]
  },
  {
   "cell_type": "code",
   "execution_count": 1,
   "id": "6ad6d22b",
   "metadata": {},
   "outputs": [],
   "source": [
    "import constants\n",
    "import numpy as np\n",
    "import pandas as pd"
   ]
  },
  {
   "cell_type": "code",
   "execution_count": 2,
   "id": "7ec5bba2",
   "metadata": {},
   "outputs": [],
   "source": [
    "# Load data into Pandas DataFrame\n",
    "data_path = \"assignment-sample-data-cleaned.csv\"\n",
    "df = pd.read_csv(data_path)"
   ]
  },
  {
   "cell_type": "code",
   "execution_count": 3,
   "id": "e2e5c19e",
   "metadata": {},
   "outputs": [],
   "source": [
    "from IPython.display import display\n",
    "pd.set_option('display.width', 1000)"
   ]
  },
  {
   "cell_type": "code",
   "execution_count": 4,
   "id": "ec836643",
   "metadata": {},
   "outputs": [
    {
     "data": {
      "text/html": [
       "<div>\n",
       "<style scoped>\n",
       "    .dataframe tbody tr th:only-of-type {\n",
       "        vertical-align: middle;\n",
       "    }\n",
       "\n",
       "    .dataframe tbody tr th {\n",
       "        vertical-align: top;\n",
       "    }\n",
       "\n",
       "    .dataframe thead th {\n",
       "        text-align: right;\n",
       "    }\n",
       "</style>\n",
       "<table border=\"1\" class=\"dataframe\">\n",
       "  <thead>\n",
       "    <tr style=\"text-align: right;\">\n",
       "      <th></th>\n",
       "      <th>parkinguser_id</th>\n",
       "      <th>area_type</th>\n",
       "      <th>parking_fee_sek</th>\n",
       "      <th>parking_duration</th>\n",
       "      <th>weekday</th>\n",
       "      <th>registered_cars</th>\n",
       "      <th>n_parkings</th>\n",
       "      <th>parking_activity</th>\n",
       "      <th>account_type</th>\n",
       "    </tr>\n",
       "  </thead>\n",
       "  <tbody>\n",
       "    <tr>\n",
       "      <th>0</th>\n",
       "      <td>fake_e764113cde</td>\n",
       "      <td>SurfaceLot</td>\n",
       "      <td>11.5000</td>\n",
       "      <td>1.906667</td>\n",
       "      <td>1</td>\n",
       "      <td>9</td>\n",
       "      <td>893</td>\n",
       "      <td>0.786092</td>\n",
       "      <td>private</td>\n",
       "    </tr>\n",
       "    <tr>\n",
       "      <th>1</th>\n",
       "      <td>fake_87f457ddef</td>\n",
       "      <td>SurfaceLot</td>\n",
       "      <td>13.0566</td>\n",
       "      <td>0.879167</td>\n",
       "      <td>1</td>\n",
       "      <td>20</td>\n",
       "      <td>429</td>\n",
       "      <td>0.161036</td>\n",
       "      <td>private</td>\n",
       "    </tr>\n",
       "    <tr>\n",
       "      <th>2</th>\n",
       "      <td>fake_61d32bf6c5</td>\n",
       "      <td>OnStreet</td>\n",
       "      <td>173.3300</td>\n",
       "      <td>8.662778</td>\n",
       "      <td>1</td>\n",
       "      <td>2</td>\n",
       "      <td>121</td>\n",
       "      <td>0.200000</td>\n",
       "      <td>corporate</td>\n",
       "    </tr>\n",
       "    <tr>\n",
       "      <th>3</th>\n",
       "      <td>fake_dcec7e9cf0</td>\n",
       "      <td>SurfaceLot</td>\n",
       "      <td>20.0200</td>\n",
       "      <td>1.880278</td>\n",
       "      <td>1</td>\n",
       "      <td>7</td>\n",
       "      <td>321</td>\n",
       "      <td>0.370242</td>\n",
       "      <td>private</td>\n",
       "    </tr>\n",
       "    <tr>\n",
       "      <th>4</th>\n",
       "      <td>fake_256473c6ae</td>\n",
       "      <td>OnStreet</td>\n",
       "      <td>12.0000</td>\n",
       "      <td>5.990278</td>\n",
       "      <td>1</td>\n",
       "      <td>1</td>\n",
       "      <td>584</td>\n",
       "      <td>0.804408</td>\n",
       "      <td>private</td>\n",
       "    </tr>\n",
       "  </tbody>\n",
       "</table>\n",
       "</div>"
      ],
      "text/plain": [
       "    parkinguser_id   area_type  parking_fee_sek  parking_duration  weekday  registered_cars  n_parkings  parking_activity account_type\n",
       "0  fake_e764113cde  SurfaceLot          11.5000          1.906667        1                9         893          0.786092      private\n",
       "1  fake_87f457ddef  SurfaceLot          13.0566          0.879167        1               20         429          0.161036      private\n",
       "2  fake_61d32bf6c5    OnStreet         173.3300          8.662778        1                2         121          0.200000    corporate\n",
       "3  fake_dcec7e9cf0  SurfaceLot          20.0200          1.880278        1                7         321          0.370242      private\n",
       "4  fake_256473c6ae    OnStreet          12.0000          5.990278        1                1         584          0.804408      private"
      ]
     },
     "execution_count": 4,
     "metadata": {},
     "output_type": "execute_result"
    }
   ],
   "source": [
    "df.head()"
   ]
  },
  {
   "cell_type": "markdown",
   "id": "b3c17727",
   "metadata": {},
   "source": [
    "## Map \"account_type\" and \"area_type\" to numeric values"
   ]
  },
  {
   "cell_type": "code",
   "execution_count": 5,
   "id": "d656f427",
   "metadata": {},
   "outputs": [
    {
     "name": "stdout",
     "output_type": "stream",
     "text": [
      "Count of values in account_type: account_type\n",
      "0    52882\n",
      "1    28415\n",
      "Name: count, dtype: int64\n"
     ]
    }
   ],
   "source": [
    "# Map account_type to 0 (private),1 (corporate)\n",
    "account_type_mapping = constants.ACCOUNT_TYPE_MAPPING\n",
    "df[\"account_type\"] = df[\"account_type\"].map(account_type_mapping)\n",
    "print(\"Count of values in account_type:\", df[\"account_type\"].value_counts())\n",
    "\n",
    "# Map area_type to one-hot encoding\n",
    "area_mapping = constants.AREA_TYPE_MAPPING\n",
    "df[\"area_type\"] = df[\"area_type\"].map(area_mapping).apply(\n",
    "    lambda x: np.eye(7, dtype=int)[x]\n",
    ")"
   ]
  },
  {
   "cell_type": "code",
   "execution_count": 6,
   "id": "6e53a1cf",
   "metadata": {},
   "outputs": [
    {
     "name": "stdout",
     "output_type": "stream",
     "text": [
      "(81297, 9)\n"
     ]
    },
    {
     "data": {
      "text/html": [
       "<div>\n",
       "<style scoped>\n",
       "    .dataframe tbody tr th:only-of-type {\n",
       "        vertical-align: middle;\n",
       "    }\n",
       "\n",
       "    .dataframe tbody tr th {\n",
       "        vertical-align: top;\n",
       "    }\n",
       "\n",
       "    .dataframe thead th {\n",
       "        text-align: right;\n",
       "    }\n",
       "</style>\n",
       "<table border=\"1\" class=\"dataframe\">\n",
       "  <thead>\n",
       "    <tr style=\"text-align: right;\">\n",
       "      <th></th>\n",
       "      <th>parkinguser_id</th>\n",
       "      <th>area_type</th>\n",
       "      <th>parking_fee_sek</th>\n",
       "      <th>parking_duration</th>\n",
       "      <th>weekday</th>\n",
       "      <th>registered_cars</th>\n",
       "      <th>n_parkings</th>\n",
       "      <th>parking_activity</th>\n",
       "      <th>account_type</th>\n",
       "    </tr>\n",
       "  </thead>\n",
       "  <tbody>\n",
       "    <tr>\n",
       "      <th>0</th>\n",
       "      <td>fake_e764113cde</td>\n",
       "      <td>[0, 1, 0, 0, 0, 0, 0]</td>\n",
       "      <td>11.5000</td>\n",
       "      <td>1.906667</td>\n",
       "      <td>1</td>\n",
       "      <td>9</td>\n",
       "      <td>893</td>\n",
       "      <td>0.786092</td>\n",
       "      <td>0</td>\n",
       "    </tr>\n",
       "    <tr>\n",
       "      <th>1</th>\n",
       "      <td>fake_87f457ddef</td>\n",
       "      <td>[0, 1, 0, 0, 0, 0, 0]</td>\n",
       "      <td>13.0566</td>\n",
       "      <td>0.879167</td>\n",
       "      <td>1</td>\n",
       "      <td>20</td>\n",
       "      <td>429</td>\n",
       "      <td>0.161036</td>\n",
       "      <td>0</td>\n",
       "    </tr>\n",
       "    <tr>\n",
       "      <th>2</th>\n",
       "      <td>fake_61d32bf6c5</td>\n",
       "      <td>[0, 0, 0, 1, 0, 0, 0]</td>\n",
       "      <td>173.3300</td>\n",
       "      <td>8.662778</td>\n",
       "      <td>1</td>\n",
       "      <td>2</td>\n",
       "      <td>121</td>\n",
       "      <td>0.200000</td>\n",
       "      <td>1</td>\n",
       "    </tr>\n",
       "    <tr>\n",
       "      <th>3</th>\n",
       "      <td>fake_dcec7e9cf0</td>\n",
       "      <td>[0, 1, 0, 0, 0, 0, 0]</td>\n",
       "      <td>20.0200</td>\n",
       "      <td>1.880278</td>\n",
       "      <td>1</td>\n",
       "      <td>7</td>\n",
       "      <td>321</td>\n",
       "      <td>0.370242</td>\n",
       "      <td>0</td>\n",
       "    </tr>\n",
       "    <tr>\n",
       "      <th>4</th>\n",
       "      <td>fake_256473c6ae</td>\n",
       "      <td>[0, 0, 0, 1, 0, 0, 0]</td>\n",
       "      <td>12.0000</td>\n",
       "      <td>5.990278</td>\n",
       "      <td>1</td>\n",
       "      <td>1</td>\n",
       "      <td>584</td>\n",
       "      <td>0.804408</td>\n",
       "      <td>0</td>\n",
       "    </tr>\n",
       "  </tbody>\n",
       "</table>\n",
       "</div>"
      ],
      "text/plain": [
       "    parkinguser_id              area_type  parking_fee_sek  parking_duration  weekday  registered_cars  n_parkings  parking_activity  account_type\n",
       "0  fake_e764113cde  [0, 1, 0, 0, 0, 0, 0]          11.5000          1.906667        1                9         893          0.786092             0\n",
       "1  fake_87f457ddef  [0, 1, 0, 0, 0, 0, 0]          13.0566          0.879167        1               20         429          0.161036             0\n",
       "2  fake_61d32bf6c5  [0, 0, 0, 1, 0, 0, 0]         173.3300          8.662778        1                2         121          0.200000             1\n",
       "3  fake_dcec7e9cf0  [0, 1, 0, 0, 0, 0, 0]          20.0200          1.880278        1                7         321          0.370242             0\n",
       "4  fake_256473c6ae  [0, 0, 0, 1, 0, 0, 0]          12.0000          5.990278        1                1         584          0.804408             0"
      ]
     },
     "execution_count": 6,
     "metadata": {},
     "output_type": "execute_result"
    }
   ],
   "source": [
    "print(df.shape)\n",
    "df.head()"
   ]
  },
  {
   "cell_type": "markdown",
   "id": "9c76da27",
   "metadata": {},
   "source": [
    "## Aggregate over user"
   ]
  },
  {
   "cell_type": "code",
   "execution_count": 7,
   "id": "73c2bd9f",
   "metadata": {},
   "outputs": [],
   "source": [
    "## Aggregate features over parkinguser_id\n",
    "\n",
    "# Create a custom aggregation dictionary\n",
    "agg_dict = {\n",
    "    col: 'mean' for col in df.columns \n",
    "    if df[col].dtype in ['int64', 'float64'] and col != 'parkinguser_id'\n",
    "}\n",
    "agg_dict['account_type'] = 'first'\n",
    "agg_dict['area_type'] = lambda x: np.sum(np.vstack(x), axis=0)  # Sum the one-hot vectors\n",
    "\n",
    "# Group by parkinguser_id and apply aggregations\n",
    "df_aggregated = df.groupby('parkinguser_id').agg(agg_dict)\n",
    "\n",
    "# Normalize the area_type vectors\n",
    "df_aggregated['area_type'] = df_aggregated['area_type'].apply(\n",
    "    lambda x: x / np.linalg.norm(x) if np.linalg.norm(x) > 0 else x\n",
    ")\n",
    "\n",
    "# Reset index to make parkinguser_id a column again\n",
    "df_aggregated = df_aggregated.reset_index()"
   ]
  },
  {
   "cell_type": "code",
   "execution_count": 8,
   "id": "d8f71cef",
   "metadata": {},
   "outputs": [
    {
     "name": "stdout",
     "output_type": "stream",
     "text": [
      "All area_type vectors have length 7\n"
     ]
    }
   ],
   "source": [
    "# Check that all area_type vectors have length 7\n",
    "for index, row in df_aggregated.iterrows():\n",
    "    if len(row['area_type']) != 7:\n",
    "        print(row)\n",
    "print(\"All area_type vectors have length 7\")"
   ]
  },
  {
   "cell_type": "code",
   "execution_count": 9,
   "id": "3afb0bfa",
   "metadata": {},
   "outputs": [],
   "source": [
    "# Create new columns from the numpy arrays\n",
    "area_type_expanded = pd.DataFrame(\n",
    "    df_aggregated['area_type'].tolist(),\n",
    "    columns=[f'area_type_{i}' for i in range(7)]\n",
    ")\n",
    "\n",
    "# Append the new columns to the original DataFrame\n",
    "df_aggregated = pd.concat([df_aggregated, area_type_expanded], axis=1)\n"
   ]
  },
  {
   "cell_type": "code",
   "execution_count": 10,
   "id": "f66fbc49",
   "metadata": {},
   "outputs": [
    {
     "data": {
      "text/html": [
       "<div>\n",
       "<style scoped>\n",
       "    .dataframe tbody tr th:only-of-type {\n",
       "        vertical-align: middle;\n",
       "    }\n",
       "\n",
       "    .dataframe tbody tr th {\n",
       "        vertical-align: top;\n",
       "    }\n",
       "\n",
       "    .dataframe thead th {\n",
       "        text-align: right;\n",
       "    }\n",
       "</style>\n",
       "<table border=\"1\" class=\"dataframe\">\n",
       "  <thead>\n",
       "    <tr style=\"text-align: right;\">\n",
       "      <th></th>\n",
       "      <th>parkinguser_id</th>\n",
       "      <th>parking_fee_sek</th>\n",
       "      <th>parking_duration</th>\n",
       "      <th>weekday</th>\n",
       "      <th>registered_cars</th>\n",
       "      <th>n_parkings</th>\n",
       "      <th>parking_activity</th>\n",
       "      <th>area_type_0</th>\n",
       "      <th>area_type_1</th>\n",
       "      <th>area_type_2</th>\n",
       "      <th>area_type_3</th>\n",
       "      <th>area_type_4</th>\n",
       "      <th>area_type_5</th>\n",
       "      <th>area_type_6</th>\n",
       "      <th>account_type</th>\n",
       "    </tr>\n",
       "  </thead>\n",
       "  <tbody>\n",
       "    <tr>\n",
       "      <th>0</th>\n",
       "      <td>fake_00f8011540</td>\n",
       "      <td>34.742</td>\n",
       "      <td>1.478</td>\n",
       "      <td>0.500</td>\n",
       "      <td>5.000</td>\n",
       "      <td>50.000</td>\n",
       "      <td>0.047</td>\n",
       "      <td>0.000</td>\n",
       "      <td>0.964</td>\n",
       "      <td>0.107</td>\n",
       "      <td>0.241</td>\n",
       "      <td>0.027</td>\n",
       "      <td>0.000</td>\n",
       "      <td>0.000</td>\n",
       "      <td>0</td>\n",
       "    </tr>\n",
       "    <tr>\n",
       "      <th>1</th>\n",
       "      <td>fake_06c1cbc936</td>\n",
       "      <td>11.556</td>\n",
       "      <td>3.299</td>\n",
       "      <td>0.647</td>\n",
       "      <td>1.000</td>\n",
       "      <td>17.000</td>\n",
       "      <td>0.037</td>\n",
       "      <td>0.000</td>\n",
       "      <td>1.000</td>\n",
       "      <td>0.000</td>\n",
       "      <td>0.000</td>\n",
       "      <td>0.000</td>\n",
       "      <td>0.000</td>\n",
       "      <td>0.000</td>\n",
       "      <td>0</td>\n",
       "    </tr>\n",
       "    <tr>\n",
       "      <th>2</th>\n",
       "      <td>fake_0703d99383</td>\n",
       "      <td>10.320</td>\n",
       "      <td>1.248</td>\n",
       "      <td>0.864</td>\n",
       "      <td>8.000</td>\n",
       "      <td>381.000</td>\n",
       "      <td>0.196</td>\n",
       "      <td>0.006</td>\n",
       "      <td>0.080</td>\n",
       "      <td>0.009</td>\n",
       "      <td>0.997</td>\n",
       "      <td>0.000</td>\n",
       "      <td>0.000</td>\n",
       "      <td>0.000</td>\n",
       "      <td>0</td>\n",
       "    </tr>\n",
       "    <tr>\n",
       "      <th>3</th>\n",
       "      <td>fake_07ec98fe5f</td>\n",
       "      <td>11.516</td>\n",
       "      <td>1.340</td>\n",
       "      <td>0.613</td>\n",
       "      <td>4.000</td>\n",
       "      <td>31.000</td>\n",
       "      <td>0.021</td>\n",
       "      <td>0.036</td>\n",
       "      <td>0.998</td>\n",
       "      <td>0.036</td>\n",
       "      <td>0.036</td>\n",
       "      <td>0.000</td>\n",
       "      <td>0.000</td>\n",
       "      <td>0.000</td>\n",
       "      <td>0</td>\n",
       "    </tr>\n",
       "    <tr>\n",
       "      <th>4</th>\n",
       "      <td>fake_0886c9a74d</td>\n",
       "      <td>66.734</td>\n",
       "      <td>5.867</td>\n",
       "      <td>0.929</td>\n",
       "      <td>2.000</td>\n",
       "      <td>154.000</td>\n",
       "      <td>0.166</td>\n",
       "      <td>0.007</td>\n",
       "      <td>0.101</td>\n",
       "      <td>0.007</td>\n",
       "      <td>0.995</td>\n",
       "      <td>0.000</td>\n",
       "      <td>0.000</td>\n",
       "      <td>0.000</td>\n",
       "      <td>0</td>\n",
       "    </tr>\n",
       "  </tbody>\n",
       "</table>\n",
       "</div>"
      ],
      "text/plain": [
       "    parkinguser_id  parking_fee_sek  parking_duration  weekday  registered_cars  n_parkings  parking_activity  area_type_0  area_type_1  area_type_2  area_type_3  area_type_4  area_type_5  area_type_6  account_type\n",
       "0  fake_00f8011540           34.742             1.478    0.500            5.000      50.000             0.047        0.000        0.964        0.107        0.241        0.027        0.000        0.000             0\n",
       "1  fake_06c1cbc936           11.556             3.299    0.647            1.000      17.000             0.037        0.000        1.000        0.000        0.000        0.000        0.000        0.000             0\n",
       "2  fake_0703d99383           10.320             1.248    0.864            8.000     381.000             0.196        0.006        0.080        0.009        0.997        0.000        0.000        0.000             0\n",
       "3  fake_07ec98fe5f           11.516             1.340    0.613            4.000      31.000             0.021        0.036        0.998        0.036        0.036        0.000        0.000        0.000             0\n",
       "4  fake_0886c9a74d           66.734             5.867    0.929            2.000     154.000             0.166        0.007        0.101        0.007        0.995        0.000        0.000        0.000             0"
      ]
     },
     "execution_count": 10,
     "metadata": {},
     "output_type": "execute_result"
    }
   ],
   "source": [
    "#pd.set_option('display.precision', 2)\n",
    "pd.set_option('display.float_format', lambda x: '%.3f' % x)\n",
    "df_aggregated = df_aggregated[[col for col in df_aggregated.columns if col != 'account_type'] + ['account_type']]\n",
    "df_aggregated = df_aggregated.drop(columns=['area_type'])\n",
    "df_aggregated.head()"
   ]
  },
  {
   "cell_type": "code",
   "execution_count": 11,
   "id": "208b8931",
   "metadata": {},
   "outputs": [
    {
     "name": "stdout",
     "output_type": "stream",
     "text": [
      "(300, 15)\n",
      "account_type\n",
      "0    250\n",
      "1     50\n",
      "Name: count, dtype: int64\n"
     ]
    }
   ],
   "source": [
    "print(df_aggregated.shape)\n",
    "print(df_aggregated[\"account_type\"].value_counts())"
   ]
  },
  {
   "cell_type": "markdown",
   "id": "0024239d",
   "metadata": {},
   "source": [
    "## Save processed data"
   ]
  },
  {
   "cell_type": "code",
   "execution_count": null,
   "id": "d82b6632",
   "metadata": {},
   "outputs": [],
   "source": [
    "save_df = False\n",
    "if save_df:\n",
    "    path = \"aggregated-user-data.csv\"\n",
    "    df_aggregated.to_csv(path, index=False)"
   ]
  },
  {
   "cell_type": "markdown",
   "id": "eeb7139b",
   "metadata": {},
   "source": [
    "## Future work\n",
    "\n",
    "- We can reduce the length of the area_type vector by clustering similar areas and removing the least common areas. This is helpful since reducing the dimensionality of the area_type vector can improve the performance of the models that utilize distance metrics such as KNN."
   ]
  }
 ],
 "metadata": {
  "kernelspec": {
   "display_name": ".venv",
   "language": "python",
   "name": "python3"
  },
  "language_info": {
   "codemirror_mode": {
    "name": "ipython",
    "version": 3
   },
   "file_extension": ".py",
   "mimetype": "text/x-python",
   "name": "python",
   "nbconvert_exporter": "python",
   "pygments_lexer": "ipython3",
   "version": "3.12.3"
  }
 },
 "nbformat": 4,
 "nbformat_minor": 5
}
