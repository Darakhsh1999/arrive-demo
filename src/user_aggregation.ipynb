{
 "cells": [
  {
   "cell_type": "markdown",
   "id": "8eae61f5",
   "metadata": {},
   "source": [
    "# Aggregating over users "
   ]
  },
  {
   "cell_type": "code",
   "execution_count": 1,
   "id": "6ad6d22b",
   "metadata": {},
   "outputs": [],
   "source": [
    "import constants\n",
    "import numpy as np\n",
    "import pandas as pd"
   ]
  },
  {
   "cell_type": "code",
   "execution_count": 2,
   "id": "7ec5bba2",
   "metadata": {},
   "outputs": [],
   "source": [
    "# Load data into Pandas DataFrame\n",
    "data_path = \"assignment-sample-data-cleaned.csv\"\n",
    "df = pd.read_csv(data_path)"
   ]
  },
  {
   "cell_type": "code",
   "execution_count": 3,
   "id": "e2e5c19e",
   "metadata": {},
   "outputs": [],
   "source": [
    "from IPython.display import display\n",
    "pd.set_option('display.width', 1000)"
   ]
  },
  {
   "cell_type": "code",
   "execution_count": 4,
   "id": "ec836643",
   "metadata": {},
   "outputs": [
    {
     "data": {
      "text/html": [
       "<div>\n",
       "<style scoped>\n",
       "    .dataframe tbody tr th:only-of-type {\n",
       "        vertical-align: middle;\n",
       "    }\n",
       "\n",
       "    .dataframe tbody tr th {\n",
       "        vertical-align: top;\n",
       "    }\n",
       "\n",
       "    .dataframe thead th {\n",
       "        text-align: right;\n",
       "    }\n",
       "</style>\n",
       "<table border=\"1\" class=\"dataframe\">\n",
       "  <thead>\n",
       "    <tr style=\"text-align: right;\">\n",
       "      <th></th>\n",
       "      <th>parkinguser_id</th>\n",
       "      <th>area_type</th>\n",
       "      <th>parking_fee_sek</th>\n",
       "      <th>parking_duration</th>\n",
       "      <th>weekday</th>\n",
       "      <th>registered_cars</th>\n",
       "      <th>n_parkings</th>\n",
       "      <th>parking_activity</th>\n",
       "      <th>account_type</th>\n",
       "    </tr>\n",
       "  </thead>\n",
       "  <tbody>\n",
       "    <tr>\n",
       "      <th>0</th>\n",
       "      <td>fake_c6a7eb1142</td>\n",
       "      <td>OnStreet</td>\n",
       "      <td>49.50</td>\n",
       "      <td>2.791944</td>\n",
       "      <td>1</td>\n",
       "      <td>2</td>\n",
       "      <td>339</td>\n",
       "      <td>0.304036</td>\n",
       "      <td>corporate</td>\n",
       "    </tr>\n",
       "    <tr>\n",
       "      <th>1</th>\n",
       "      <td>fake_6e03a1bfc8</td>\n",
       "      <td>OnStreet</td>\n",
       "      <td>61.30</td>\n",
       "      <td>2.045556</td>\n",
       "      <td>1</td>\n",
       "      <td>3</td>\n",
       "      <td>80</td>\n",
       "      <td>0.037488</td>\n",
       "      <td>private</td>\n",
       "    </tr>\n",
       "    <tr>\n",
       "      <th>2</th>\n",
       "      <td>fake_f6adf105e7</td>\n",
       "      <td>OnStreet</td>\n",
       "      <td>20.58</td>\n",
       "      <td>19.126111</td>\n",
       "      <td>1</td>\n",
       "      <td>1</td>\n",
       "      <td>159</td>\n",
       "      <td>0.249216</td>\n",
       "      <td>corporate</td>\n",
       "    </tr>\n",
       "    <tr>\n",
       "      <th>3</th>\n",
       "      <td>fake_d317e5c7a5</td>\n",
       "      <td>SurfaceLot</td>\n",
       "      <td>2.00</td>\n",
       "      <td>0.243611</td>\n",
       "      <td>1</td>\n",
       "      <td>6</td>\n",
       "      <td>1965</td>\n",
       "      <td>1.234296</td>\n",
       "      <td>corporate</td>\n",
       "    </tr>\n",
       "    <tr>\n",
       "      <th>4</th>\n",
       "      <td>fake_bdbd8ad11c</td>\n",
       "      <td>OnStreet</td>\n",
       "      <td>60.00</td>\n",
       "      <td>20.342500</td>\n",
       "      <td>0</td>\n",
       "      <td>9</td>\n",
       "      <td>2061</td>\n",
       "      <td>0.836105</td>\n",
       "      <td>corporate</td>\n",
       "    </tr>\n",
       "  </tbody>\n",
       "</table>\n",
       "</div>"
      ],
      "text/plain": [
       "    parkinguser_id   area_type  parking_fee_sek  parking_duration  weekday  registered_cars  n_parkings  parking_activity account_type\n",
       "0  fake_c6a7eb1142    OnStreet            49.50          2.791944        1                2         339          0.304036    corporate\n",
       "1  fake_6e03a1bfc8    OnStreet            61.30          2.045556        1                3          80          0.037488      private\n",
       "2  fake_f6adf105e7    OnStreet            20.58         19.126111        1                1         159          0.249216    corporate\n",
       "3  fake_d317e5c7a5  SurfaceLot             2.00          0.243611        1                6        1965          1.234296    corporate\n",
       "4  fake_bdbd8ad11c    OnStreet            60.00         20.342500        0                9        2061          0.836105    corporate"
      ]
     },
     "execution_count": 4,
     "metadata": {},
     "output_type": "execute_result"
    }
   ],
   "source": [
    "df.head()"
   ]
  },
  {
   "cell_type": "code",
   "execution_count": 5,
   "id": "d656f427",
   "metadata": {},
   "outputs": [],
   "source": [
    "# Map account_type to 0,1\n",
    "account_type_mapping = constants.ACCOUNT_TYPE_MAPPING\n",
    "df[\"account_type\"] = df[\"account_type\"].map(account_type_mapping)\n",
    "\n",
    "\n",
    "# Map area_type to one-hot encoding\n",
    "area_mapping = constants.AREA_TYPE_MAPPING\n",
    "df[\"area_type\"] = df[\"area_type\"].map(area_mapping).apply(\n",
    "    lambda x: np.eye(7, dtype=int)[x]\n",
    ")"
   ]
  },
  {
   "cell_type": "code",
   "execution_count": 6,
   "id": "6e53a1cf",
   "metadata": {},
   "outputs": [
    {
     "name": "stdout",
     "output_type": "stream",
     "text": [
      "(81428, 9)\n"
     ]
    }
   ],
   "source": [
    "print(df.shape)"
   ]
  },
  {
   "cell_type": "code",
   "execution_count": 7,
   "id": "62ad1f50",
   "metadata": {},
   "outputs": [
    {
     "data": {
      "text/html": [
       "<div>\n",
       "<style scoped>\n",
       "    .dataframe tbody tr th:only-of-type {\n",
       "        vertical-align: middle;\n",
       "    }\n",
       "\n",
       "    .dataframe tbody tr th {\n",
       "        vertical-align: top;\n",
       "    }\n",
       "\n",
       "    .dataframe thead th {\n",
       "        text-align: right;\n",
       "    }\n",
       "</style>\n",
       "<table border=\"1\" class=\"dataframe\">\n",
       "  <thead>\n",
       "    <tr style=\"text-align: right;\">\n",
       "      <th></th>\n",
       "      <th>parkinguser_id</th>\n",
       "      <th>area_type</th>\n",
       "      <th>parking_fee_sek</th>\n",
       "      <th>parking_duration</th>\n",
       "      <th>weekday</th>\n",
       "      <th>registered_cars</th>\n",
       "      <th>n_parkings</th>\n",
       "      <th>parking_activity</th>\n",
       "      <th>account_type</th>\n",
       "    </tr>\n",
       "  </thead>\n",
       "  <tbody>\n",
       "    <tr>\n",
       "      <th>0</th>\n",
       "      <td>fake_c6a7eb1142</td>\n",
       "      <td>[0, 0, 0, 1, 0, 0, 0]</td>\n",
       "      <td>49.50</td>\n",
       "      <td>2.791944</td>\n",
       "      <td>1</td>\n",
       "      <td>2</td>\n",
       "      <td>339</td>\n",
       "      <td>0.304036</td>\n",
       "      <td>1</td>\n",
       "    </tr>\n",
       "    <tr>\n",
       "      <th>1</th>\n",
       "      <td>fake_6e03a1bfc8</td>\n",
       "      <td>[0, 0, 0, 1, 0, 0, 0]</td>\n",
       "      <td>61.30</td>\n",
       "      <td>2.045556</td>\n",
       "      <td>1</td>\n",
       "      <td>3</td>\n",
       "      <td>80</td>\n",
       "      <td>0.037488</td>\n",
       "      <td>0</td>\n",
       "    </tr>\n",
       "    <tr>\n",
       "      <th>2</th>\n",
       "      <td>fake_f6adf105e7</td>\n",
       "      <td>[0, 0, 0, 1, 0, 0, 0]</td>\n",
       "      <td>20.58</td>\n",
       "      <td>19.126111</td>\n",
       "      <td>1</td>\n",
       "      <td>1</td>\n",
       "      <td>159</td>\n",
       "      <td>0.249216</td>\n",
       "      <td>1</td>\n",
       "    </tr>\n",
       "    <tr>\n",
       "      <th>3</th>\n",
       "      <td>fake_d317e5c7a5</td>\n",
       "      <td>[0, 1, 0, 0, 0, 0, 0]</td>\n",
       "      <td>2.00</td>\n",
       "      <td>0.243611</td>\n",
       "      <td>1</td>\n",
       "      <td>6</td>\n",
       "      <td>1965</td>\n",
       "      <td>1.234296</td>\n",
       "      <td>1</td>\n",
       "    </tr>\n",
       "    <tr>\n",
       "      <th>4</th>\n",
       "      <td>fake_bdbd8ad11c</td>\n",
       "      <td>[0, 0, 0, 1, 0, 0, 0]</td>\n",
       "      <td>60.00</td>\n",
       "      <td>20.342500</td>\n",
       "      <td>0</td>\n",
       "      <td>9</td>\n",
       "      <td>2061</td>\n",
       "      <td>0.836105</td>\n",
       "      <td>1</td>\n",
       "    </tr>\n",
       "  </tbody>\n",
       "</table>\n",
       "</div>"
      ],
      "text/plain": [
       "    parkinguser_id              area_type  parking_fee_sek  parking_duration  weekday  registered_cars  n_parkings  parking_activity  account_type\n",
       "0  fake_c6a7eb1142  [0, 0, 0, 1, 0, 0, 0]            49.50          2.791944        1                2         339          0.304036             1\n",
       "1  fake_6e03a1bfc8  [0, 0, 0, 1, 0, 0, 0]            61.30          2.045556        1                3          80          0.037488             0\n",
       "2  fake_f6adf105e7  [0, 0, 0, 1, 0, 0, 0]            20.58         19.126111        1                1         159          0.249216             1\n",
       "3  fake_d317e5c7a5  [0, 1, 0, 0, 0, 0, 0]             2.00          0.243611        1                6        1965          1.234296             1\n",
       "4  fake_bdbd8ad11c  [0, 0, 0, 1, 0, 0, 0]            60.00         20.342500        0                9        2061          0.836105             1"
      ]
     },
     "execution_count": 7,
     "metadata": {},
     "output_type": "execute_result"
    }
   ],
   "source": [
    "df.head()"
   ]
  },
  {
   "cell_type": "markdown",
   "id": "9c76da27",
   "metadata": {},
   "source": [
    "## Aggregate over user"
   ]
  },
  {
   "cell_type": "code",
   "execution_count": 8,
   "id": "73c2bd9f",
   "metadata": {},
   "outputs": [],
   "source": [
    "### Aggregate over parkinguser_id\n",
    "# Create a custom aggregation dictionary\n",
    "agg_dict = {\n",
    "    col: 'mean' for col in df.columns \n",
    "    if df[col].dtype in ['int64', 'float64'] and col != 'parkinguser_id'\n",
    "}\n",
    "agg_dict['area_type'] = lambda x: np.sum(np.vstack(x), axis=0)  # Sum the one-hot vectors\n",
    "\n",
    "# Group by parkinguser_id and apply aggregations\n",
    "df_aggregated = df.groupby('parkinguser_id').agg(agg_dict)\n",
    "\n",
    "# Normalize the area_type vectors\n",
    "df_aggregated['area_type'] = df_aggregated['area_type'].apply(\n",
    "    lambda x: x / np.linalg.norm(x) if np.linalg.norm(x) > 0 else x\n",
    ")\n",
    "\n",
    "# Reset index to make parkinguser_id a column again\n",
    "df_aggregated = df_aggregated.reset_index()"
   ]
  },
  {
   "cell_type": "code",
   "execution_count": 9,
   "id": "4065b76b",
   "metadata": {},
   "outputs": [
    {
     "data": {
      "text/html": [
       "<div>\n",
       "<style scoped>\n",
       "    .dataframe tbody tr th:only-of-type {\n",
       "        vertical-align: middle;\n",
       "    }\n",
       "\n",
       "    .dataframe tbody tr th {\n",
       "        vertical-align: top;\n",
       "    }\n",
       "\n",
       "    .dataframe thead th {\n",
       "        text-align: right;\n",
       "    }\n",
       "</style>\n",
       "<table border=\"1\" class=\"dataframe\">\n",
       "  <thead>\n",
       "    <tr style=\"text-align: right;\">\n",
       "      <th></th>\n",
       "      <th>parkinguser_id</th>\n",
       "      <th>parking_fee_sek</th>\n",
       "      <th>parking_duration</th>\n",
       "      <th>weekday</th>\n",
       "      <th>registered_cars</th>\n",
       "      <th>n_parkings</th>\n",
       "      <th>parking_activity</th>\n",
       "      <th>area_type</th>\n",
       "      <th>account_type</th>\n",
       "    </tr>\n",
       "  </thead>\n",
       "  <tbody>\n",
       "    <tr>\n",
       "      <th>0</th>\n",
       "      <td>fake_00f8011540</td>\n",
       "      <td>34.74</td>\n",
       "      <td>1.48</td>\n",
       "      <td>0.50</td>\n",
       "      <td>5.0</td>\n",
       "      <td>50.0</td>\n",
       "      <td>0.05</td>\n",
       "      <td>[0.0, 0.9642088512100443, 0.10713431680111603,...</td>\n",
       "      <td>0.0</td>\n",
       "    </tr>\n",
       "    <tr>\n",
       "      <th>1</th>\n",
       "      <td>fake_06c1cbc936</td>\n",
       "      <td>11.56</td>\n",
       "      <td>3.30</td>\n",
       "      <td>0.65</td>\n",
       "      <td>1.0</td>\n",
       "      <td>17.0</td>\n",
       "      <td>0.04</td>\n",
       "      <td>[0.0, 1.0, 0.0, 0.0, 0.0, 0.0, 0.0]</td>\n",
       "      <td>0.0</td>\n",
       "    </tr>\n",
       "    <tr>\n",
       "      <th>2</th>\n",
       "      <td>fake_0703d99383</td>\n",
       "      <td>10.32</td>\n",
       "      <td>1.25</td>\n",
       "      <td>0.86</td>\n",
       "      <td>8.0</td>\n",
       "      <td>381.0</td>\n",
       "      <td>0.20</td>\n",
       "      <td>[0.005728308005379121, 0.0801963120753077, 0.0...</td>\n",
       "      <td>0.0</td>\n",
       "    </tr>\n",
       "    <tr>\n",
       "      <th>3</th>\n",
       "      <td>fake_07ec98fe5f</td>\n",
       "      <td>11.52</td>\n",
       "      <td>1.34</td>\n",
       "      <td>0.61</td>\n",
       "      <td>4.0</td>\n",
       "      <td>31.0</td>\n",
       "      <td>0.02</td>\n",
       "      <td>[0.035646150289975954, 0.9980922081193268, 0.0...</td>\n",
       "      <td>0.0</td>\n",
       "    </tr>\n",
       "    <tr>\n",
       "      <th>4</th>\n",
       "      <td>fake_0886c9a74d</td>\n",
       "      <td>66.73</td>\n",
       "      <td>5.87</td>\n",
       "      <td>0.93</td>\n",
       "      <td>2.0</td>\n",
       "      <td>154.0</td>\n",
       "      <td>0.17</td>\n",
       "      <td>[0.00720899783080567, 0.10092596963127938, 0.0...</td>\n",
       "      <td>0.0</td>\n",
       "    </tr>\n",
       "  </tbody>\n",
       "</table>\n",
       "</div>"
      ],
      "text/plain": [
       "    parkinguser_id  parking_fee_sek  parking_duration  weekday  registered_cars  n_parkings  parking_activity                                          area_type  account_type\n",
       "0  fake_00f8011540            34.74              1.48     0.50              5.0        50.0              0.05  [0.0, 0.9642088512100443, 0.10713431680111603,...           0.0\n",
       "1  fake_06c1cbc936            11.56              3.30     0.65              1.0        17.0              0.04                [0.0, 1.0, 0.0, 0.0, 0.0, 0.0, 0.0]           0.0\n",
       "2  fake_0703d99383            10.32              1.25     0.86              8.0       381.0              0.20  [0.005728308005379121, 0.0801963120753077, 0.0...           0.0\n",
       "3  fake_07ec98fe5f            11.52              1.34     0.61              4.0        31.0              0.02  [0.035646150289975954, 0.9980922081193268, 0.0...           0.0\n",
       "4  fake_0886c9a74d            66.73              5.87     0.93              2.0       154.0              0.17  [0.00720899783080567, 0.10092596963127938, 0.0...           0.0"
      ]
     },
     "execution_count": 9,
     "metadata": {},
     "output_type": "execute_result"
    }
   ],
   "source": [
    "pd.set_option('display.precision', 2)\n",
    "df_aggregated = df_aggregated[[col for col in df_aggregated.columns if col != 'account_type'] + ['account_type']]\n",
    "df_aggregated.head()"
   ]
  },
  {
   "cell_type": "code",
   "execution_count": 10,
   "id": "208b8931",
   "metadata": {},
   "outputs": [
    {
     "name": "stdout",
     "output_type": "stream",
     "text": [
      "(300, 9)\n"
     ]
    }
   ],
   "source": [
    "print(df_aggregated.shape)"
   ]
  },
  {
   "cell_type": "markdown",
   "id": "0024239d",
   "metadata": {},
   "source": [
    "## Save processed data"
   ]
  },
  {
   "cell_type": "code",
   "execution_count": null,
   "id": "d82b6632",
   "metadata": {},
   "outputs": [],
   "source": [
    "save_df = True\n",
    "if save_df:\n",
    "    path = \"aggregated-user-data.csv\"\n",
    "    df_aggregated.to_csv(path, index=False)"
   ]
  },
  {
   "cell_type": "markdown",
   "id": "eeb7139b",
   "metadata": {},
   "source": [
    "## Future work\n",
    "\n",
    "- We can reduce the length of the area_type vector by clustering similar areas and removing the least common areas. This is helpful since reducing the dimensionality of the area_type vector can improve the performance of the models that utilize distance metrics such as KNN."
   ]
  }
 ],
 "metadata": {
  "kernelspec": {
   "display_name": ".venv",
   "language": "python",
   "name": "python3"
  },
  "language_info": {
   "codemirror_mode": {
    "name": "ipython",
    "version": 3
   },
   "file_extension": ".py",
   "mimetype": "text/x-python",
   "name": "python",
   "nbconvert_exporter": "python",
   "pygments_lexer": "ipython3",
   "version": "3.12.11"
  }
 },
 "nbformat": 4,
 "nbformat_minor": 5
}
